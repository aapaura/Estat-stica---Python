{
 "cells": [
  {
   "cell_type": "markdown",
   "id": "abb11bb9",
   "metadata": {},
   "source": [
    "### Histograma"
   ]
  },
  {
   "cell_type": "markdown",
   "id": "ed513f2f",
   "metadata": {},
   "source": [
    "**Valor-Z**\n",
    "\n",
    "Na Estatística, um Valor-Z (escore-Z ou escore padrão) de uma observação é o **número de desvios padrão** acima ou abaixo da média da população. Para calcular um escore z, é necessário saber a média da população e o desvio padrão da população."
   ]
  },
  {
   "cell_type": "code",
   "execution_count": 1,
   "id": "b29a8961",
   "metadata": {},
   "outputs": [],
   "source": [
    "import pandas as pd\n",
    "import matplotlib.pyplot as plt\n",
    "from scipy.stats import norm\n",
    "import numpy as np\n",
    "import seaborn as sns"
   ]
  },
  {
   "cell_type": "code",
   "execution_count": 2,
   "id": "3d12237a",
   "metadata": {},
   "outputs": [],
   "source": [
    "df = pd.read_csv(\"CompanyABCProfit.csv\")"
   ]
  },
  {
   "cell_type": "code",
   "execution_count": 3,
   "id": "fbb2ca36",
   "metadata": {},
   "outputs": [
    {
     "data": {
      "text/html": [
       "<div>\n",
       "<style scoped>\n",
       "    .dataframe tbody tr th:only-of-type {\n",
       "        vertical-align: middle;\n",
       "    }\n",
       "\n",
       "    .dataframe tbody tr th {\n",
       "        vertical-align: top;\n",
       "    }\n",
       "\n",
       "    .dataframe thead th {\n",
       "        text-align: right;\n",
       "    }\n",
       "</style>\n",
       "<table border=\"1\" class=\"dataframe\">\n",
       "  <thead>\n",
       "    <tr style=\"text-align: right;\">\n",
       "      <th></th>\n",
       "      <th>Year</th>\n",
       "      <th>Profit(Rs '000)</th>\n",
       "    </tr>\n",
       "  </thead>\n",
       "  <tbody>\n",
       "    <tr>\n",
       "      <th>0</th>\n",
       "      <td>1821</td>\n",
       "      <td>1645</td>\n",
       "    </tr>\n",
       "    <tr>\n",
       "      <th>1</th>\n",
       "      <td>1822</td>\n",
       "      <td>658</td>\n",
       "    </tr>\n",
       "    <tr>\n",
       "      <th>2</th>\n",
       "      <td>1823</td>\n",
       "      <td>1926</td>\n",
       "    </tr>\n",
       "    <tr>\n",
       "      <th>3</th>\n",
       "      <td>1824</td>\n",
       "      <td>865</td>\n",
       "    </tr>\n",
       "    <tr>\n",
       "      <th>4</th>\n",
       "      <td>1825</td>\n",
       "      <td>764</td>\n",
       "    </tr>\n",
       "  </tbody>\n",
       "</table>\n",
       "</div>"
      ],
      "text/plain": [
       "   Year  Profit(Rs '000)\n",
       "0  1821             1645\n",
       "1  1822              658\n",
       "2  1823             1926\n",
       "3  1824              865\n",
       "4  1825              764"
      ]
     },
     "execution_count": 3,
     "metadata": {},
     "output_type": "execute_result"
    }
   ],
   "source": [
    "df.head()"
   ]
  },
  {
   "cell_type": "code",
   "execution_count": 4,
   "id": "6338f569",
   "metadata": {},
   "outputs": [],
   "source": [
    "df.columns = ['ano','lucro']"
   ]
  },
  {
   "cell_type": "code",
   "execution_count": 5,
   "id": "56472179",
   "metadata": {},
   "outputs": [
    {
     "name": "stdout",
     "output_type": "stream",
     "text": [
      "<class 'pandas.core.frame.DataFrame'>\n",
      "RangeIndex: 200 entries, 0 to 199\n",
      "Data columns (total 2 columns):\n",
      " #   Column  Non-Null Count  Dtype\n",
      "---  ------  --------------  -----\n",
      " 0   ano     200 non-null    int64\n",
      " 1   lucro   200 non-null    int64\n",
      "dtypes: int64(2)\n",
      "memory usage: 3.2 KB\n"
     ]
    }
   ],
   "source": [
    "df.info()"
   ]
  },
  {
   "cell_type": "code",
   "execution_count": 6,
   "id": "39f0f9fa",
   "metadata": {},
   "outputs": [],
   "source": [
    "def plot_hist(df,column,bars):\n",
    "    x = df[column].values\n",
    "    first = int(x.min())\n",
    "    last = int(x.max())\n",
    "    interval = (last-first)/bars\n",
    "    \n",
    "    tick=[first]\n",
    "    elem = first\n",
    "    for i in range(1,bars):\n",
    "        elem += interval\n",
    "        tick.append(elem)\n",
    "\n",
    "    tick.append(last)\n",
    "    \n",
    "    df[column].plot.hist(bins=bars,rwidth=(0.9))\n",
    "    plt.xticks(tick)\n",
    "    plt.title('Distribuição de '+column.capitalize())\n",
    "    plt.xlabel(column.capitalize())\n",
    "    plt.grid(axis='y')\n",
    "    return plt.show()"
   ]
  },
  {
   "cell_type": "code",
   "execution_count": 7,
   "id": "79818f7d",
   "metadata": {},
   "outputs": [
    {
     "data": {
      "image/png": "[encoded data removed]",
      "text/plain": [
       "<Figure size 432x288 with 1 Axes>"
      ]
     },
     "metadata": {
      "needs_background": "light"
     },
     "output_type": "display_data"
    }
   ],
   "source": [
    "plot_hist(df,'lucro',10)"
   ]
  },
  {
   "cell_type": "code",
   "execution_count": null,
   "id": "c089560e",
   "metadata": {
    "scrolled": true
   },
   "outputs": [],
   "source": [
    "df.lucro.mode()"
   ]
  },
  {
   "cell_type": "code",
   "execution_count": 9,
   "id": "96d35b14",
   "metadata": {},
   "outputs": [
    {
     "data": {
      "text/plain": [
       "count     200.000000\n",
       "mean     1021.990000\n",
       "std       487.955626\n",
       "min      -413.000000\n",
       "25%       724.250000\n",
       "50%      1024.000000\n",
       "75%      1318.250000\n",
       "max      2055.000000\n",
       "Name: lucro, dtype: float64"
      ]
     },
     "execution_count": 9,
     "metadata": {},
     "output_type": "execute_result"
    }
   ],
   "source": [
    "df.lucro.describe()"
   ]
  },
  {
   "cell_type": "code",
   "execution_count": null,
   "id": "ef694199",
   "metadata": {},
   "outputs": [],
   "source": [
    "sns.distplot(df['lucro'], fit=norm, kde=False)"
   ]
  },
  {
   "cell_type": "markdown",
   "id": "aedc0603",
   "metadata": {},
   "source": [
    "### Calculando Z"
   ]
  },
  {
   "cell_type": "markdown",
   "id": "ca2cbfd0",
   "metadata": {},
   "source": [
    "#### Qual a probabilidade de uma pessoa ter 32 anos de idade ou menos?"
   ]
  },
  {
   "cell_type": "markdown",
   "id": "24a6fcc9",
   "metadata": {},
   "source": [
    "<img src=\"Tabela+Z.jpg\">"
   ]
  },
  {
   "cell_type": "code",
   "execution_count": null,
   "id": "9b2f11d0",
   "metadata": {},
   "outputs": [],
   "source": [
    "media = df.lucro.mean()\n",
    "std = df.lucro.std()\n",
    "\n",
    "media, std"
   ]
  },
  {
   "cell_type": "code",
   "execution_count": null,
   "id": "61d7e1d5",
   "metadata": {},
   "outputs": [],
   "source": [
    "x = 1000\n",
    "z = (x-media)/std\n",
    "z"
   ]
  },
  {
   "cell_type": "code",
   "execution_count": null,
   "id": "3d6624ae",
   "metadata": {},
   "outputs": [],
   "source": [
    "prob = 0.6460"
   ]
  },
  {
   "cell_type": "code",
   "execution_count": null,
   "id": "e70e6b6d",
   "metadata": {},
   "outputs": [],
   "source": [
    "def distribution(df,column, ponto= 1000,point=1200,rule=True):\n",
    "    media = df[column].mean()\n",
    "    std = df[column]. std()\n",
    "    sns.distplot(df[column], fit=norm, kde=False)\n",
    "    plt.axvline(media, 0,0.8, color='red',linewidth=4)\n",
    "    plt.axvline(ponto, 0,0.8, color='yellow',linewidth=4)\n",
    "    if point != None:\n",
    "        plt.axvline(point, 0,0.8, color='yellow',linewidth=4)\n",
    "    if rule:\n",
    "        plt.axvline(media-std, 0,0.5,color='purple',linewidth=3)\n",
    "        plt.axvline(media+std, 0,0.5,color='purple',linewidth=3)\n",
    "        plt.axvline(media-2*std, 0,0.1,color='blue',linewidth=3)\n",
    "        plt.axvline(media+2*std, 0,0.1,color='blue',linewidth=3)\n",
    "        plt.axvline(media-3*std, 0,0.05,color='forestgreen',linewidth=3)\n",
    "        plt.axvline(media+3*std, 0,0.05,color='forestgreen',linewidth=3)\n",
    "    return plt.show()"
   ]
  },
  {
   "cell_type": "code",
   "execution_count": null,
   "id": "e9a42b71",
   "metadata": {},
   "outputs": [],
   "source": [
    "distribution(df,'lucro')"
   ]
  },
  {
   "cell_type": "code",
   "execution_count": null,
   "id": "0b564347",
   "metadata": {},
   "outputs": [],
   "source": []
  }
 ],
 "metadata": {
  "kernelspec": {
   "display_name": "Python 3",
   "language": "python",
   "name": "python3"
  },
  "language_info": {
   "codemirror_mode": {
    "name": "ipython",
    "version": 3
   },
   "file_extension": ".py",
   "mimetype": "text/x-python",
   "name": "python",
   "nbconvert_exporter": "python",
   "pygments_lexer": "ipython3",
   "version": "3.6.7"
  }
 },
 "nbformat": 4,
 "nbformat_minor": 5
}
